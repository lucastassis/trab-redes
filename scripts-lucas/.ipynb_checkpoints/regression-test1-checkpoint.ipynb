{
 "cells": [
  {
   "cell_type": "markdown",
   "id": "6ce7d8dc",
   "metadata": {},
   "source": [
    "## teste 1 -  MLPRegressor e RandomForestRegressor"
   ]
  },
  {
   "cell_type": "markdown",
   "id": "b450a143",
   "metadata": {},
   "source": [
    "**import libs**"
   ]
  },
  {
   "cell_type": "code",
   "execution_count": null,
   "id": "d9b8ede4",
   "metadata": {},
   "outputs": [],
   "source": [
    "import numpy as np\n",
    "import pandas as pd\n",
    "import matplotlib.pyplot as plt\n",
    "from sklearn.preprocessing import StandardScaler\n",
    "from sklearn.neural_network import MLPRegressor\n",
    "from sklearn.metrics import mean_absolute_error\n",
    "from sklearn.utils import check_array\n",
    "from sklearn.ensemble import RandomForestRegressor\n",
    "\n",
    "def mean_absolute_percentage_error(y_true, y_pred): \n",
    "    y_true, y_pred = np.array(y_true), np.array(y_pred)\n",
    "    return np.mean(np.abs((y_true - y_pred) / y_true)) * 100"
   ]
  },
  {
   "cell_type": "markdown",
   "id": "42eb5576",
   "metadata": {},
   "source": [
    "**read data**"
   ]
  },
  {
   "cell_type": "code",
   "execution_count": null,
   "id": "1819daa7",
   "metadata": {},
   "outputs": [],
   "source": [
    "sta1_data = pd.read_csv('./results-final-test1/processed_1.csv')\n",
    "sta2_data = pd.read_csv('./results-final-test1/processed_2.csv')\n",
    "sta3_data = pd.read_csv('./results-final-test1/processed_3.csv')"
   ]
  },
  {
   "cell_type": "code",
   "execution_count": null,
   "id": "02724bd1",
   "metadata": {},
   "outputs": [],
   "source": [
    "X_sta1 = sta1_data.loc[:, 'CPU_use':].to_numpy()\n",
    "buffer_level_sta1 = sta1_data['bufferLevel'].to_numpy()\n",
    "calculated_bitrate_sta1 = sta1_data['calculatedBitrate'].to_numpy()\n",
    "\n",
    "X_sta2 = sta2_data.loc[:, 'CPU_use':].to_numpy()\n",
    "buffer_level_sta2 = sta2_data['bufferLevel'].to_numpy()\n",
    "calculated_bitrate_sta2 = sta2_data['calculatedBitrate'].to_numpy()\n",
    "\n",
    "X_sta3 = sta3_data.loc[:, 'CPU_use':].to_numpy()\n",
    "buffer_level_sta3 = sta3_data['bufferLevel'].to_numpy()\n",
    "calculated_bitrate_sta3 = sta3_data['calculatedBitrate'].to_numpy()"
   ]
  },
  {
   "cell_type": "markdown",
   "id": "8e9b9541",
   "metadata": {},
   "source": [
    "### train: sta1, sta2 test: sta3"
   ]
  },
  {
   "cell_type": "markdown",
   "id": "d86c6875",
   "metadata": {},
   "source": [
    "#### train and test models"
   ]
  },
  {
   "cell_type": "code",
   "execution_count": null,
   "id": "c2070d7f",
   "metadata": {},
   "outputs": [],
   "source": [
    "X_train = np.concatenate([X_sta1, X_sta2])\n",
    "bl_train = np.concatenate((buffer_level_sta1, buffer_level_sta2), axis=0)\n",
    "cb_train = np.concatenate((calculated_bitrate_sta1, calculated_bitrate_sta2), axis=0)\n",
    "print(X_train.shape, bl_train.shape, cb_train.shape)\n",
    "X_test = X_sta3\n",
    "bl_test = buffer_level_sta3\n",
    "cb_test = calculated_bitrate_sta3\n",
    "print(X_test.shape, bl_test.shape, cb_test.shape)"
   ]
  },
  {
   "cell_type": "code",
   "execution_count": null,
   "id": "90c4d75c",
   "metadata": {},
   "outputs": [],
   "source": [
    "scaler = StandardScaler()\n",
    "scaler.fit(X_train)\n",
    "X_processed = scaler.transform(X_train)\n",
    "X_test_processed = scaler.transform(X_test)"
   ]
  },
  {
   "cell_type": "code",
   "execution_count": null,
   "id": "2a8c55c5",
   "metadata": {},
   "outputs": [],
   "source": [
    "model = MLPRegressor(max_iter=30000).fit(X_processed, cb_train)\n",
    "y_pred = model.predict(X_test_processed)\n",
    "plt.plot(range(0, len(cb_test)), y_pred, label='predito')\n",
    "plt.plot(range(0, len(cb_test)), cb_test, label='real')\n",
    "plt.title('Predição CalculatedBitrate no Teste1/h3 utilizando MLPRegressor')\n",
    "plt.legend()\n",
    "\n",
    "print(cb_test.shape, y_pred.shape)"
   ]
  },
  {
   "cell_type": "code",
   "execution_count": null,
   "id": "47733d63",
   "metadata": {
    "scrolled": false
   },
   "outputs": [],
   "source": [
    "model = MLPRegressor(max_iter=30000).fit(X_processed, bl_train)\n",
    "y_pred = model.predict(X_test_processed)\n",
    "plt.plot(range(0, len(cb_test)), y_pred, label='predito')\n",
    "plt.plot(range(0, len(cb_test)), bl_test, label='real')\n",
    "plt.title('Predição BufferLevel no Teste1/h3 utilizando MLPRegressor')\n",
    "plt.legend()"
   ]
  },
  {
   "cell_type": "code",
   "execution_count": null,
   "id": "5dec4090",
   "metadata": {},
   "outputs": [],
   "source": [
    "model = RandomForestRegressor().fit(X_processed, cb_train)\n",
    "y_pred = model.predict(X_test_processed)\n",
    "plt.plot(range(0, len(cb_test)), y_pred, label='predito')\n",
    "plt.plot(range(0, len(cb_test)), cb_test, label='real')\n",
    "plt.title('Predição CalculatedBitrate no Teste1/h3 utilizando RandomForestRegressor')\n",
    "plt.legend()"
   ]
  },
  {
   "cell_type": "code",
   "execution_count": null,
   "id": "3c91afeb",
   "metadata": {
    "scrolled": false
   },
   "outputs": [],
   "source": [
    "model = RandomForestRegressor().fit(X_processed, bl_train)\n",
    "y_pred = model.predict(X_test_processed)\n",
    "plt.plot(range(0, len(cb_test)), y_pred, label='predito')\n",
    "plt.plot(range(0, len(cb_test)), bl_test, label='real')\n",
    "plt.title('Predição BufferLevel no Teste1/h3 utilizando RandomForestRegressor')\n",
    "plt.legend()"
   ]
  },
  {
   "cell_type": "markdown",
   "id": "618239ce",
   "metadata": {},
   "source": [
    "### train: sta1, sta3 test: sta2"
   ]
  },
  {
   "cell_type": "code",
   "execution_count": null,
   "id": "d263e46f",
   "metadata": {},
   "outputs": [],
   "source": [
    "X_train = np.concatenate([X_sta1, X_sta3])\n",
    "bl_train = np.concatenate((buffer_level_sta1, buffer_level_sta3), axis=0)\n",
    "cb_train = np.concatenate((calculated_bitrate_sta1, calculated_bitrate_sta3), axis=0)\n",
    "print(X_train.shape, bl_train.shape, cb_train.shape)\n",
    "X_test = X_sta2\n",
    "bl_test = buffer_level_sta2\n",
    "cb_test = calculated_bitrate_sta2\n",
    "print(X_test.shape, bl_test.shape, cb_test.shape)"
   ]
  },
  {
   "cell_type": "code",
   "execution_count": null,
   "id": "54c7f468",
   "metadata": {},
   "outputs": [],
   "source": [
    "scaler = StandardScaler()\n",
    "scaler.fit(X_train)\n",
    "X_processed = scaler.transform(X_train)\n",
    "X_test_processed = scaler.transform(X_test)"
   ]
  },
  {
   "cell_type": "code",
   "execution_count": null,
   "id": "be36b485",
   "metadata": {},
   "outputs": [],
   "source": [
    "model = MLPRegressor(max_iter=30000).fit(X_processed, cb_train)\n",
    "y_pred = model.predict(X_test_processed)\n",
    "plt.plot(range(0, len(cb_test)), cb_test, label='real')\n",
    "plt.plot(range(0, len(cb_test)), y_pred, label='pred')\n",
    "plt.title(f'calculated bitrate - MAPE={mean_absolute_percentage_error(y_pred, cb_test)}')\n",
    "plt.legend()\n",
    "\n",
    "print(cb_test.shape, y_pred.shape)"
   ]
  },
  {
   "cell_type": "code",
   "execution_count": null,
   "id": "cf0c6d39",
   "metadata": {},
   "outputs": [],
   "source": [
    "model = MLPRegressor(max_iter=30000).fit(X_processed, bl_train)\n",
    "y_pred = model.predict(X_test_processed)\n",
    "plt.plot(range(0, len(cb_test)), bl_test, label='real')\n",
    "plt.plot(range(0, len(cb_test)), y_pred, label='pred')\n",
    "plt.title(f'buffer Level- MAPE={mean_absolute_percentage_error(y_pred, bl_test)}')\n",
    "plt.legend()"
   ]
  },
  {
   "cell_type": "code",
   "execution_count": null,
   "id": "b6df9893",
   "metadata": {},
   "outputs": [],
   "source": [
    "model = RandomForestRegressor().fit(X_processed, cb_train)\n",
    "y_pred = model.predict(X_test_processed)\n",
    "plt.plot(range(0, len(cb_test)), cb_test, label='real')\n",
    "plt.plot(range(0, len(cb_test)), y_pred, label='pred')\n",
    "plt.title(f'calculated bitrate - MAPE={mean_absolute_percentage_error(y_pred, cb_test)}')\n",
    "plt.legend()"
   ]
  },
  {
   "cell_type": "code",
   "execution_count": null,
   "id": "96af442d",
   "metadata": {},
   "outputs": [],
   "source": [
    "model = RandomForestRegressor().fit(X_processed, bl_train)\n",
    "y_pred = model.predict(X_test_processed)\n",
    "plt.plot(range(0, len(cb_test)), bl_test, label='real')\n",
    "plt.plot(range(0, len(cb_test)), y_pred, label='pred')\n",
    "plt.title(f'buffer Level- MAPE={mean_absolute_percentage_error(y_pred, bl_test)}')\n",
    "plt.legend()"
   ]
  },
  {
   "cell_type": "markdown",
   "id": "476a0345",
   "metadata": {},
   "source": [
    "### train: sta2, sta3 test: sta1"
   ]
  },
  {
   "cell_type": "code",
   "execution_count": null,
   "id": "72d7a64b",
   "metadata": {},
   "outputs": [],
   "source": [
    "X_train = np.concatenate([X_sta2, X_sta3])\n",
    "bl_train = np.concatenate((buffer_level_sta2, buffer_level_sta3), axis=0)\n",
    "cb_train = np.concatenate((calculated_bitrate_sta2, calculated_bitrate_sta3), axis=0)\n",
    "print(X_train.shape, bl_train.shape, cb_train.shape)\n",
    "X_test = X_sta1\n",
    "bl_test = buffer_level_sta1\n",
    "cb_test = calculated_bitrate_sta1\n",
    "print(X_test.shape, bl_test.shape, cb_test.shape)"
   ]
  },
  {
   "cell_type": "code",
   "execution_count": null,
   "id": "38a9fe9c",
   "metadata": {},
   "outputs": [],
   "source": [
    "scaler = StandardScaler()\n",
    "scaler.fit(X_train)\n",
    "X_processed = scaler.transform(X_train)\n",
    "X_test_processed = scaler.transform(X_test)"
   ]
  },
  {
   "cell_type": "code",
   "execution_count": null,
   "id": "d07eaad6",
   "metadata": {},
   "outputs": [],
   "source": [
    "model = MLPRegressor(max_iter=30000).fit(X_processed, cb_train)\n",
    "y_pred = model.predict(X_test_processed)\n",
    "plt.plot(range(0, len(cb_test)), cb_test, label='real')\n",
    "plt.plot(range(0, len(cb_test)), y_pred, label='pred')\n",
    "plt.title(f'calculated bitrate - MAPE={mean_absolute_percentage_error(y_pred, cb_test)}')\n",
    "plt.legend()\n",
    "\n",
    "print(cb_test.shape, y_pred.shape)"
   ]
  },
  {
   "cell_type": "code",
   "execution_count": null,
   "id": "256d2528",
   "metadata": {},
   "outputs": [],
   "source": [
    "model = MLPRegressor(max_iter=30000).fit(X_processed, bl_train)\n",
    "y_pred = model.predict(X_test_processed)\n",
    "plt.plot(range(0, len(cb_test)), bl_test, label='real')\n",
    "plt.plot(range(0, len(cb_test)), y_pred, label='pred')\n",
    "plt.title(f'buffer Level- MAPE={mean_absolute_percentage_error(y_pred, bl_test)}')\n",
    "plt.legend()"
   ]
  },
  {
   "cell_type": "code",
   "execution_count": null,
   "id": "8b05eefd",
   "metadata": {},
   "outputs": [],
   "source": [
    "model = RandomForestRegressor().fit(X_processed, cb_train)\n",
    "y_pred = model.predict(X_test_processed)\n",
    "plt.plot(range(0, len(cb_test)), cb_test, label='real')\n",
    "plt.plot(range(0, len(cb_test)), y_pred, label='pred')\n",
    "plt.title(f'calculated bitrate - MAPE={mean_absolute_percentage_error(y_pred, cb_test)}')\n",
    "plt.legend()"
   ]
  },
  {
   "cell_type": "code",
   "execution_count": null,
   "id": "41f516c8",
   "metadata": {},
   "outputs": [],
   "source": [
    "model = RandomForestRegressor().fit(X_processed, bl_train)\n",
    "y_pred = model.predict(X_test_processed)\n",
    "plt.plot(range(0, len(cb_test)), bl_test, label='real')\n",
    "plt.plot(range(0, len(cb_test)), y_pred, label='pred')\n",
    "plt.title(f'buffer Level- MAPE={mean_absolute_percentage_error(y_pred, bl_test)}')\n",
    "plt.legend()"
   ]
  }
 ],
 "metadata": {
  "kernelspec": {
   "display_name": "Python 3 (ipykernel)",
   "language": "python",
   "name": "python3"
  },
  "language_info": {
   "codemirror_mode": {
    "name": "ipython",
    "version": 3
   },
   "file_extension": ".py",
   "mimetype": "text/x-python",
   "name": "python",
   "nbconvert_exporter": "python",
   "pygments_lexer": "ipython3",
   "version": "3.10.6"
  }
 },
 "nbformat": 4,
 "nbformat_minor": 5
}
